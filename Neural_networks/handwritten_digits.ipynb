{
 "cells": [
  {
   "cell_type": "code",
   "execution_count": 1,
   "id": "d5fa448a",
   "metadata": {},
   "outputs": [],
   "source": [
    "import numpy as np\n",
    "import pandas as pd\n",
    "import matplotlib.pyplot as plt\n",
    "\n",
    "from sklearn import datasets\n",
    "from sklearn.model_selection import train_test_split"
   ]
  },
  {
   "cell_type": "code",
   "execution_count": 2,
   "id": "a27432e5",
   "metadata": {},
   "outputs": [
    {
     "data": {
      "text/plain": [
       "['DESCR', 'data', 'feature_names', 'frame', 'images', 'target', 'target_names']"
      ]
     },
     "execution_count": 2,
     "metadata": {},
     "output_type": "execute_result"
    }
   ],
   "source": [
    "#Get the dataset of digits\n",
    "digits = datasets.load_digits()\n",
    "#Check the attributes of digits\n",
    "dir(digits)"
   ]
  },
  {
   "cell_type": "code",
   "execution_count": 3,
   "id": "4cb0dcc6",
   "metadata": {},
   "outputs": [
    {
     "name": "stdout",
     "output_type": "stream",
     "text": [
      "(1797, 64)\n",
      "(1797,)\n",
      "(1797, 8, 8)\n"
     ]
    }
   ],
   "source": [
    "#Print the shape of images in the digits dataset\n",
    "print(digits.data.shape)\n",
    "#Print the shape of target in the digits dataset\n",
    "print(digits.target.shape)\n",
    "print(digits.images.shape)"
   ]
  },
  {
   "cell_type": "code",
   "execution_count": 4,
   "id": "a7c7a4cc",
   "metadata": {},
   "outputs": [
    {
     "data": {
      "image/png": "[encoded data removed]",
      "text/plain": [
       "<Figure size 432x288 with 1 Axes>"
      ]
     },
     "metadata": {
      "needs_background": "light"
     },
     "output_type": "display_data"
    },
    {
     "name": "stdout",
     "output_type": "stream",
     "text": [
      "[ 0.  0.  5. 13.  9.  1.  0.  0.  0.  0. 13. 15. 10. 15.  5.  0.  0.  3.\n",
      " 15.  2.  0. 11.  8.  0.  0.  4. 12.  0.  0.  8.  8.  0.  0.  5.  8.  0.\n",
      "  0.  9.  8.  0.  0.  4. 11.  0.  1. 12.  7.  0.  0.  2. 14.  5. 10. 12.\n",
      "  0.  0.  0.  0.  6. 13. 10.  0.  0.  0.]\n"
     ]
    }
   ],
   "source": [
    "#Plot an image from the digits dataset\n",
    "plt.imshow(digits.images[0],cmap='binary')\n",
    "plt.show()\n",
    "print(digits.data[0])"
   ]
  },
  {
   "cell_type": "code",
   "execution_count": 5,
   "id": "d2065132",
   "metadata": {},
   "outputs": [
    {
     "name": "stdout",
     "output_type": "stream",
     "text": [
      "(1797, 10)\n",
      "(1797, 64)\n"
     ]
    }
   ],
   "source": [
    "#Get data targets\n",
    "y = pd.get_dummies(digits.target)\n",
    "print(y.shape)\n",
    "#Get data inputs - Flatten the images\n",
    "image_vector_size = 8*8\n",
    "X = digits.images.reshape(digits.images.shape[0], image_vector_size)\n",
    "print(X.shape)"
   ]
  },
  {
   "cell_type": "code",
   "execution_count": 6,
   "id": "67da333d",
   "metadata": {},
   "outputs": [],
   "source": [
    "#Dataset splitting\n",
    "X_train, X_valid, y_train, y_valid = train_test_split(X, y, train_size=0.8, test_size=0.2, random_state=42)"
   ]
  },
  {
   "cell_type": "code",
   "execution_count": 7,
   "id": "c1b459d5",
   "metadata": {},
   "outputs": [],
   "source": [
    "#Helper functions\n",
    "def sigmoid(Z):\n",
    "    return 1/(1+np.exp(-Z))\n",
    "\n",
    "def softmax(x):\n",
    "    exp = np.exp(x)\n",
    "    sum = (np.sum(exp, axis=1))\n",
    "    return (exp.T / sum).T"
   ]
  },
  {
   "cell_type": "code",
   "execution_count": 8,
   "id": "de1bf4f5",
   "metadata": {},
   "outputs": [],
   "source": [
    "#He initialization\n",
    "def initializeParameterHe(inputSize, hiddenLayerSize, outputSize):\n",
    "    W1 = np.random.randn(hiddenLayerSize, inputSize) * np.sqrt(2/inputSize)\n",
    "    W2 = np.random.randn(outputSize, hiddenLayerSize) * np.sqrt(2/hiddenLayerSize)\n",
    "    b1 = np.zeros((hiddenLayerSize, 1))\n",
    "    b2 = np.zeros((outputSize, 1))\n",
    "    \n",
    "    print(W1.shape)\n",
    "    print(W2.shape)\n",
    "    print(b1.shape)\n",
    "    print(b2.shape)\n",
    "    \n",
    "    parameters = {\"W1\": W1, \"W2\": W2, \"b1\": b1, \"b2\": b2}\n",
    "    return parameters"
   ]
  },
  {
   "cell_type": "code",
   "execution_count": 9,
   "id": "7008ac91",
   "metadata": {},
   "outputs": [
    {
     "name": "stdout",
     "output_type": "stream",
     "text": [
      "(15, 64)\n",
      "(10, 15)\n",
      "(15, 1)\n",
      "(10, 1)\n"
     ]
    }
   ],
   "source": [
    "hiddenLayerSize = 15\n",
    "inputSize = X_train.shape[1]\n",
    "outputSize = y_train.shape[1]\n",
    "\n",
    "parameters = initializeParameterHe(inputSize, hiddenLayerSize, outputSize)"
   ]
  },
  {
   "cell_type": "code",
   "execution_count": 10,
   "id": "765d00ef",
   "metadata": {},
   "outputs": [],
   "source": [
    "#Forward propagation\n",
    "def forwardPass(x, y, parameters):\n",
    "    W1, W2, b1, b2 = parameters[\"W1\"], parameters[\"W2\"], parameters[\"b1\"], parameters[\"b2\"]\n",
    "    \n",
    "    print(parameters[\"W1\"].shape)\n",
    "    print(x.T.shape)\n",
    "    \n",
    "    Z1 = np.dot(W1, x.T) + b1\n",
    "    A1 = sigmoid(Z1)\n",
    "    Z2 = np.dot(W2, A1) + b2\n",
    "    A2 = softmax(Z2)\n",
    "    \n",
    "    cache = {\"Z1\": Z1, \"A1\": A1, \"W1\": W1, \"b1\": b1, \"Z2\": Z2, \"A2\": A2, \"W2\": W2, \"b2\": b2}\n",
    "    logprobs = np.multiply(np.log(A2), y.T) + np.multiply(np.log(1-A2), 1-y.T)\n",
    "    cost = (-1/y.shape[1])*np.sum(logprobs)\n",
    "    \n",
    "    return cost, cache, A2"
   ]
  },
  {
   "cell_type": "code",
   "execution_count": 11,
   "id": "b5b52ff1",
   "metadata": {},
   "outputs": [],
   "source": [
    "#Backward propagation\n",
    "def backwardPass(x, y, cache):\n",
    "    m = x.shape[1]\n",
    "    Z1, A1, W1, b1, Z2, A2, W2, b2 = cache[\"Z1\"], cache[\"A1\"], cache[\"W1\"], cache[\"b1\"], cache[\"Z2\"], cache[\"A2\"], cache[\"W2\"], cache[\"b2\"]\n",
    "\n",
    "    dZ2 = A2 - y.T\n",
    "    dW2 = np.dot(dZ2, A1.T)/m\n",
    "    db2 = np.sum(dZ2, axis=1)\n",
    "    \n",
    "    dA1 = np.dot(W2.T, dZ2)\n",
    "    dZ1 = np.multiply(dA1, A1*(1-A1))\n",
    "    dW1 = np.dot(dZ1, x)/m\n",
    "    db1 = np.sum(dZ1, axis=1)/m\n",
    "    \n",
    "    gradients = {\"dZ2\": dZ2, \"dW2\": dW2, \"db2\": db2, \"dZ1\": dZ1, \"dW1\": dW1, \"db1\": db1}\n",
    "    return gradients"
   ]
  },
  {
   "cell_type": "code",
   "execution_count": 12,
   "id": "941fcaa8",
   "metadata": {},
   "outputs": [],
   "source": [
    "#Update parameters\n",
    "def udpateParameters(parameters, gradients, learningRate):\n",
    "    parameters[\"W1\"] = parameters[\"W1\"] + learningRate * gradients[\"dW1\"]\n",
    "    parameters[\"b1\"] = parameters[\"b1\"] + learningRate * gradients[\"db1\"]\n",
    "    parameters[\"W2\"] = parameters[\"W2\"] + learningRate * gradients[\"dW2\"]\n",
    "    #parameters[\"b2\"] = parameters[\"b2\"] + learningRate * gradients[\"db2\"]\n",
    "    return parameters"
   ]
  },
  {
   "cell_type": "code",
   "execution_count": 13,
   "id": "80545014",
   "metadata": {},
   "outputs": [
    {
     "name": "stdout",
     "output_type": "stream",
     "text": [
      "(15, 64)\n",
      "(64, 1437)\n",
      "(15, 64)\n",
      "(64, 1437)\n"
     ]
    },
    {
     "ename": "ValueError",
     "evalue": "operands could not be broadcast together with shapes (15,1437) (15,15) ",
     "output_type": "error",
     "traceback": [
      "\u001b[0;31m---------------------------------------------------------------------------\u001b[0m",
      "\u001b[0;31mValueError\u001b[0m                                Traceback (most recent call last)",
      "\u001b[0;32m<ipython-input-13-edca4653e264>\u001b[0m in \u001b[0;36m<module>\u001b[0;34m\u001b[0m\n\u001b[1;32m      4\u001b[0m \u001b[0;34m\u001b[0m\u001b[0m\n\u001b[1;32m      5\u001b[0m \u001b[0;32mfor\u001b[0m \u001b[0mi\u001b[0m \u001b[0;32min\u001b[0m \u001b[0mrange\u001b[0m\u001b[0;34m(\u001b[0m\u001b[0mepochs\u001b[0m\u001b[0;34m)\u001b[0m\u001b[0;34m:\u001b[0m\u001b[0;34m\u001b[0m\u001b[0;34m\u001b[0m\u001b[0m\n\u001b[0;32m----> 6\u001b[0;31m     \u001b[0mlosses\u001b[0m\u001b[0;34m[\u001b[0m\u001b[0mi\u001b[0m\u001b[0;34m,\u001b[0m \u001b[0;36m0\u001b[0m\u001b[0;34m]\u001b[0m\u001b[0;34m,\u001b[0m \u001b[0mcache\u001b[0m\u001b[0;34m,\u001b[0m \u001b[0mA2\u001b[0m \u001b[0;34m=\u001b[0m \u001b[0mforwardPass\u001b[0m\u001b[0;34m(\u001b[0m\u001b[0mX_train\u001b[0m\u001b[0;34m,\u001b[0m \u001b[0my_train\u001b[0m\u001b[0;34m,\u001b[0m \u001b[0mparameters\u001b[0m\u001b[0;34m)\u001b[0m\u001b[0;34m\u001b[0m\u001b[0;34m\u001b[0m\u001b[0m\n\u001b[0m\u001b[1;32m      7\u001b[0m     \u001b[0mgradients\u001b[0m \u001b[0;34m=\u001b[0m \u001b[0mbackwardPass\u001b[0m\u001b[0;34m(\u001b[0m\u001b[0mX_train\u001b[0m\u001b[0;34m,\u001b[0m \u001b[0my_train\u001b[0m\u001b[0;34m,\u001b[0m \u001b[0mcache\u001b[0m\u001b[0;34m)\u001b[0m\u001b[0;34m\u001b[0m\u001b[0;34m\u001b[0m\u001b[0m\n\u001b[1;32m      8\u001b[0m     \u001b[0mparameters\u001b[0m \u001b[0;34m=\u001b[0m \u001b[0mudpateParameters\u001b[0m\u001b[0;34m(\u001b[0m\u001b[0mparameters\u001b[0m\u001b[0;34m,\u001b[0m \u001b[0mgradients\u001b[0m\u001b[0;34m,\u001b[0m \u001b[0mlearningRate\u001b[0m\u001b[0;34m)\u001b[0m\u001b[0;34m\u001b[0m\u001b[0;34m\u001b[0m\u001b[0m\n",
      "\u001b[0;32m<ipython-input-10-27ba9998571c>\u001b[0m in \u001b[0;36mforwardPass\u001b[0;34m(x, y, parameters)\u001b[0m\n\u001b[1;32m      6\u001b[0m     \u001b[0mprint\u001b[0m\u001b[0;34m(\u001b[0m\u001b[0mx\u001b[0m\u001b[0;34m.\u001b[0m\u001b[0mT\u001b[0m\u001b[0;34m.\u001b[0m\u001b[0mshape\u001b[0m\u001b[0;34m)\u001b[0m\u001b[0;34m\u001b[0m\u001b[0;34m\u001b[0m\u001b[0m\n\u001b[1;32m      7\u001b[0m \u001b[0;34m\u001b[0m\u001b[0m\n\u001b[0;32m----> 8\u001b[0;31m     \u001b[0mZ1\u001b[0m \u001b[0;34m=\u001b[0m \u001b[0mnp\u001b[0m\u001b[0;34m.\u001b[0m\u001b[0mdot\u001b[0m\u001b[0;34m(\u001b[0m\u001b[0mW1\u001b[0m\u001b[0;34m,\u001b[0m \u001b[0mx\u001b[0m\u001b[0;34m.\u001b[0m\u001b[0mT\u001b[0m\u001b[0;34m)\u001b[0m \u001b[0;34m+\u001b[0m \u001b[0mb1\u001b[0m\u001b[0;34m\u001b[0m\u001b[0;34m\u001b[0m\u001b[0m\n\u001b[0m\u001b[1;32m      9\u001b[0m     \u001b[0mA1\u001b[0m \u001b[0;34m=\u001b[0m \u001b[0msigmoid\u001b[0m\u001b[0;34m(\u001b[0m\u001b[0mZ1\u001b[0m\u001b[0;34m)\u001b[0m\u001b[0;34m\u001b[0m\u001b[0;34m\u001b[0m\u001b[0m\n\u001b[1;32m     10\u001b[0m     \u001b[0mZ2\u001b[0m \u001b[0;34m=\u001b[0m \u001b[0mnp\u001b[0m\u001b[0;34m.\u001b[0m\u001b[0mdot\u001b[0m\u001b[0;34m(\u001b[0m\u001b[0mW2\u001b[0m\u001b[0;34m,\u001b[0m \u001b[0mA1\u001b[0m\u001b[0;34m)\u001b[0m \u001b[0;34m+\u001b[0m \u001b[0mb2\u001b[0m\u001b[0;34m\u001b[0m\u001b[0;34m\u001b[0m\u001b[0m\n",
      "\u001b[0;31mValueError\u001b[0m: operands could not be broadcast together with shapes (15,1437) (15,15) "
     ]
    }
   ],
   "source": [
    "epochs = 100000\n",
    "learningRate = 0.01\n",
    "losses = np.zeros((epochs, 1), dtype=object)\n",
    "\n",
    "for i in range(epochs):\n",
    "    losses[i, 0], cache, A2 = forwardPass(X_train, y_train, parameters)\n",
    "    gradients = backwardPass(X_train, y_train, cache)\n",
    "    parameters = udpateParameters(parameters, gradients, learningRate)"
   ]
  },
  {
   "cell_type": "code",
   "execution_count": null,
   "id": "a5d55407",
   "metadata": {},
   "outputs": [],
   "source": []
  },
  {
   "cell_type": "code",
   "execution_count": null,
   "id": "884f6ab8",
   "metadata": {},
   "outputs": [],
   "source": []
  }
 ],
 "metadata": {
  "kernelspec": {
   "display_name": "Python 3",
   "language": "python",
   "name": "python3"
  },
  "language_info": {
   "codemirror_mode": {
    "name": "ipython",
    "version": 3
   },
   "file_extension": ".py",
   "mimetype": "text/x-python",
   "name": "python",
   "nbconvert_exporter": "python",
   "pygments_lexer": "ipython3",
   "version": "3.8.10"
  }
 },
 "nbformat": 4,
 "nbformat_minor": 5
}
