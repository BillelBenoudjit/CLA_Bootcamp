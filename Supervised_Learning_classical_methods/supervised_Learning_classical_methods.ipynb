{
 "cells": [
  {
   "cell_type": "code",
   "execution_count": 16,
   "id": "74825883",
   "metadata": {},
   "outputs": [],
   "source": [
    "from sklearn.model_selection import train_test_split\n",
    "from sklearn.datasets import load_breast_cancer\n",
    "from sklearn.naive_bayes import GaussianNB\n",
    "from sklearn import svm\n",
    "from sklearn import tree\n",
    "from sklearn.ensemble import RandomForestClassifier\n",
    "from sklearn.metrics import accuracy_score"
   ]
  },
  {
   "cell_type": "code",
   "execution_count": 5,
   "id": "f2682ffd",
   "metadata": {},
   "outputs": [],
   "source": [
    "#Load data\n",
    "cancer = load_breast_cancer()\n",
    "X = cancer.data\n",
    "y = cancer.target"
   ]
  },
  {
   "cell_type": "code",
   "execution_count": 7,
   "id": "742c2d9e",
   "metadata": {},
   "outputs": [],
   "source": [
    "#Split data\n",
    "X_train, X_test, y_train, y_test = train_test_split(X, y, test_size=0.3, random_state=123)"
   ]
  },
  {
   "cell_type": "code",
   "execution_count": 27,
   "id": "8f2fe67a",
   "metadata": {},
   "outputs": [],
   "source": [
    "#Train different models\n",
    "#Naive Bayes\n",
    "gnb = GaussianNB()\n",
    "gnb_y_pred = gnb.fit(X_train, y_train).predict(X_test)\n",
    "#SVM\n",
    "svm_clf = svm.SVC(gamma='auto')\n",
    "svm_y_pred = svm_clf.fit(X_train, y_train).predict(X_test)\n",
    "#Tree\n",
    "tree_clf = tree.DecisionTreeClassifier(criterion='entropy')\n",
    "tree_y_pred = tree_clf.fit(X_train, y_train).predict(X_test)\n",
    "#Random Forest\n",
    "forest_clf = RandomForestClassifier()\n",
    "forest_y_pred = forest_clf.fit(X_train, y_train).predict(X_test)"
   ]
  },
  {
   "cell_type": "code",
   "execution_count": 28,
   "id": "3888e23d",
   "metadata": {},
   "outputs": [
    {
     "name": "stdout",
     "output_type": "stream",
     "text": [
      "Naive Bayes model accuracy: 4.093567251461994 %\n",
      "SVM model accuracy: 39.76608187134503 %\n",
      "Tree model accuracy: 6.432748538011701 %\n",
      "Tree model accuracy: 1.7543859649122862 %\n"
     ]
    }
   ],
   "source": [
    "#Calculating the error\n",
    "#Naive Bayes model error\n",
    "gnb_err = (1.0 - accuracy_score(y_test, gnb_y_pred))*100\n",
    "print('Naive Bayes model accuracy:', gnb_err,\"%\")\n",
    "#SVM model error\n",
    "svm_err = (1.0 - accuracy_score(y_test, svm_y_pred))*100\n",
    "print('SVM model accuracy:', svm_err,\"%\")\n",
    "#Tree model error\n",
    "tree_err = (1.0 - accuracy_score(y_test, tree_y_pred))*100\n",
    "print('Tree model accuracy:', tree_err,\"%\")\n",
    "#Random forest model error\n",
    "forest_err = (1.0 - accuracy_score(y_test, forest_y_pred))*100\n",
    "print('Tree model accuracy:', forest_err,\"%\")"
   ]
  },
  {
   "cell_type": "markdown",
   "id": "7cbd7bac",
   "metadata": {},
   "source": [
    "According to the accuracy metric, the random forest method returns the best r"
   ]
  }
 ],
 "metadata": {
  "kernelspec": {
   "display_name": "Python 3",
   "language": "python",
   "name": "python3"
  },
  "language_info": {
   "codemirror_mode": {
    "name": "ipython",
    "version": 3
   },
   "file_extension": ".py",
   "mimetype": "text/x-python",
   "name": "python",
   "nbconvert_exporter": "python",
   "pygments_lexer": "ipython3",
   "version": "3.8.10"
  }
 },
 "nbformat": 4,
 "nbformat_minor": 5
}
