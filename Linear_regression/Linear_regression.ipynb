{
 "cells": [
  {
   "cell_type": "code",
   "execution_count": 1,
   "id": "8a4aa759",
   "metadata": {},
   "outputs": [],
   "source": [
    "import pandas as pd\n",
    "import matplotlib.pyplot as plt\n",
    "\n",
    "data = pd.read_csv(\"Fish.csv\")"
   ]
  },
  {
   "cell_type": "code",
   "execution_count": 17,
   "id": "a750c395",
   "metadata": {},
   "outputs": [
    {
     "name": "stdout",
     "output_type": "stream",
     "text": [
      "(1,)\n",
      "[23.2 24.  23.9 26.3 26.5 26.8 26.8 27.6 27.6 28.5 28.4 28.7 29.1 29.5\n",
      " 29.4 29.4 30.4 30.4 30.9 31.  31.3 31.4 31.5 31.8 31.9 31.8 32.  32.7\n",
      " 32.8 33.5 35.  35.  36.2 37.4 38.  12.9 16.5 17.5 18.2 18.6 19.  19.1\n",
      " 19.4 20.4 20.5 20.5 21.  21.1 22.  22.  22.1 23.6 24.  25.  29.5 23.6\n",
      " 24.1 25.6 28.5 33.7 37.3 13.5 14.3 16.3 17.5 18.4 19.  19.  19.8 21.2\n",
      " 23.  24.   7.5 12.5 13.8 15.  15.7 16.2 16.8 17.2 17.8 18.2 19.  19.\n",
      " 19.  19.3 20.  20.  20.  20.  20.  20.5 20.5 20.7 21.  21.5 22.  22.\n",
      " 22.6 23.  23.5 25.  25.2 25.4 25.4 25.4 25.9 26.9 27.8 30.5 32.  32.5\n",
      " 34.  34.  34.5 34.6 36.5 36.5 36.6 36.9 37.  37.  37.1 39.  39.8 40.1\n",
      " 40.2 41.1 30.  31.7 32.7 34.8 35.5 36.  40.  40.  40.1 42.  43.2 44.8\n",
      " 48.3 52.  56.  56.  59.   9.3 10.  10.1 10.4 10.7 10.8 11.3 11.3 11.4\n",
      " 11.5 11.7 12.1 13.2 13.8]\n"
     ]
    },
    {
     "data": {
      "text/plain": [
       "<matplotlib.collections.PathCollection at 0x7f3bac89f880>"
      ]
     },
     "execution_count": 17,
     "metadata": {},
     "output_type": "execute_result"
    },
    {
     "data": {
      "image/png": "[encoded data removed]",
      "text/plain": [
       "<Figure size 432x288 with 1 Axes>"
      ]
     },
     "metadata": {
      "needs_background": "light"
     },
     "output_type": "display_data"
    }
   ],
   "source": [
    "x = data.iloc[:, 2:7].values\n",
    "y = data.iloc[:, 1].values\n",
    "\n",
    "y = y.reshape(y.shape[0], 1)\n",
    "print(y[0].shape)\n",
    "print(x[:, 0])\n",
    "\n",
    "plt.scatter(x[:, 0], y, color = 'blue')"
   ]
  },
  {
   "cell_type": "code",
   "execution_count": 3,
   "id": "95cc69f9",
   "metadata": {},
   "outputs": [
    {
     "data": {
      "text/plain": [
       "array([[1.00000000e+00, 2.32000000e+01, 2.54000000e+01, ...,\n",
       "        8.62150566e+03, 3.00854624e+03, 1.04985728e+03],\n",
       "       [1.00000000e+00, 2.40000000e+01, 2.63000000e+01, ...,\n",
       "        1.24316911e+04, 4.28893345e+03, 1.47968204e+03],\n",
       "       [1.00000000e+00, 2.39000000e+01, 2.65000000e+01, ...,\n",
       "        1.58671501e+04, 6.01994892e+03, 2.28395047e+03],\n",
       "       ...,\n",
       "       [1.00000000e+00, 1.21000000e+01, 1.30000000e+01, ...,\n",
       "        1.02680387e+01, 5.66297893e+00, 3.12321868e+00],\n",
       "       [1.00000000e+00, 1.32000000e+01, 1.43000000e+01, ...,\n",
       "        7.29051610e+01, 5.24608566e+01, 3.77496111e+01],\n",
       "       [1.00000000e+00, 1.38000000e+01, 1.50000000e+01, ...,\n",
       "        5.70566396e+01, 3.65666862e+01, 2.34350033e+01]])"
      ]
     },
     "execution_count": 3,
     "metadata": {},
     "output_type": "execute_result"
    }
   ],
   "source": [
    "from sklearn.preprocessing import PolynomialFeatures\n",
    "\n",
    "poly = PolynomialFeatures(degree = 5)\n",
    "x_poly = poly.fit_transform(x)\n",
    "\n",
    "x_poly"
   ]
  },
  {
   "cell_type": "code",
   "execution_count": 26,
   "id": "869214bc",
   "metadata": {},
   "outputs": [
    {
     "data": {
      "text/plain": [
       "array([[2.42013801e+02],\n",
       "       [2.89980121e+02],\n",
       "       [3.40017982e+02],\n",
       "       [3.62984829e+02],\n",
       "       [4.30006245e+02],\n",
       "       [4.49997570e+02],\n",
       "       [5.00007999e+02],\n",
       "       [3.89999889e+02],\n",
       "       [4.49997234e+02],\n",
       "       [5.00019611e+02],\n",
       "       [4.74980457e+02],\n",
       "       [5.00001819e+02],\n",
       "       [4.99996250e+02],\n",
       "       [3.39991634e+02],\n",
       "       [6.00004917e+02],\n",
       "       [6.00001263e+02],\n",
       "       [7.00007717e+02],\n",
       "       [7.00002666e+02],\n",
       "       [6.09991253e+02],\n",
       "       [6.49994182e+02],\n",
       "       [5.74999081e+02],\n",
       "       [6.84984768e+02],\n",
       "       [6.20014049e+02],\n",
       "       [6.80000500e+02],\n",
       "       [7.00017635e+02],\n",
       "       [7.24989788e+02],\n",
       "       [7.19986736e+02],\n",
       "       [7.14000622e+02],\n",
       "       [8.50003750e+02],\n",
       "       [9.99999355e+02],\n",
       "       [9.20004635e+02],\n",
       "       [9.54988888e+02],\n",
       "       [9.25010464e+02],\n",
       "       [9.74997677e+02],\n",
       "       [9.49999416e+02],\n",
       "       [4.00095910e+01],\n",
       "       [6.89868244e+01],\n",
       "       [7.80082644e+01],\n",
       "       [8.69932812e+01],\n",
       "       [1.20020743e+02],\n",
       "       [6.03185550e-03],\n",
       "       [1.10000963e+02],\n",
       "       [1.20002324e+02],\n",
       "       [1.49973759e+02],\n",
       "       [1.45004732e+02],\n",
       "       [1.60009695e+02],\n",
       "       [1.39993482e+02],\n",
       "       [1.60010358e+02],\n",
       "       [1.69009495e+02],\n",
       "       [1.60996195e+02],\n",
       "       [1.99980036e+02],\n",
       "       [1.79995151e+02],\n",
       "       [2.90009960e+02],\n",
       "       [2.72016762e+02],\n",
       "       [3.89995121e+02],\n",
       "       [2.69991419e+02],\n",
       "       [2.69986051e+02],\n",
       "       [3.06001125e+02],\n",
       "       [5.39997036e+02],\n",
       "       [8.00005596e+02],\n",
       "       [9.99998134e+02],\n",
       "       [5.49855395e+01],\n",
       "       [5.99933687e+01],\n",
       "       [8.99940914e+01],\n",
       "       [1.19996401e+02],\n",
       "       [1.49979252e+02],\n",
       "       [1.39985968e+02],\n",
       "       [1.69979041e+02],\n",
       "       [1.45042465e+02],\n",
       "       [2.00006536e+02],\n",
       "       [2.72993177e+02],\n",
       "       [3.00024795e+02],\n",
       "       [5.89226203e+00],\n",
       "       [3.19962088e+01],\n",
       "       [4.00106596e+01],\n",
       "       [5.15055998e+01],\n",
       "       [7.00014287e+01],\n",
       "       [1.00000924e+02],\n",
       "       [7.80123662e+01],\n",
       "       [7.99919590e+01],\n",
       "       [8.50039939e+01],\n",
       "       [8.50061277e+01],\n",
       "       [1.10000769e+02],\n",
       "       [1.15001800e+02],\n",
       "       [1.25001200e+02],\n",
       "       [1.29992446e+02],\n",
       "       [1.20005738e+02],\n",
       "       [1.20001751e+02],\n",
       "       [1.30004879e+02],\n",
       "       [1.35005625e+02],\n",
       "       [1.09988598e+02],\n",
       "       [1.30006437e+02],\n",
       "       [1.49990669e+02],\n",
       "       [1.45007955e+02],\n",
       "       [1.49969536e+02],\n",
       "       [1.70010008e+02],\n",
       "       [2.24990652e+02],\n",
       "       [1.45010898e+02],\n",
       "       [1.88014986e+02],\n",
       "       [1.80005115e+02],\n",
       "       [1.97022976e+02],\n",
       "       [2.17992130e+02],\n",
       "       [2.99968845e+02],\n",
       "       [2.59999279e+02],\n",
       "       [2.65002460e+02],\n",
       "       [2.50013151e+02],\n",
       "       [2.49972156e+02],\n",
       "       [2.99992790e+02],\n",
       "       [3.20006519e+02],\n",
       "       [5.14010532e+02],\n",
       "       [5.55992573e+02],\n",
       "       [8.40002369e+02],\n",
       "       [6.84998836e+02],\n",
       "       [7.00005428e+02],\n",
       "       [7.00007854e+02],\n",
       "       [6.90018490e+02],\n",
       "       [8.99998531e+02],\n",
       "       [6.49996212e+02],\n",
       "       [8.19992565e+02],\n",
       "       [8.50007580e+02],\n",
       "       [8.99987041e+02],\n",
       "       [1.01499879e+03],\n",
       "       [8.19994655e+02],\n",
       "       [1.10000705e+03],\n",
       "       [9.99993679e+02],\n",
       "       [1.10000262e+03],\n",
       "       [1.00000573e+03],\n",
       "       [9.99995357e+02],\n",
       "       [2.00009697e+02],\n",
       "       [2.99994442e+02],\n",
       "       [3.00006763e+02],\n",
       "       [2.99992344e+02],\n",
       "       [4.30007786e+02],\n",
       "       [3.44998417e+02],\n",
       "       [4.56002972e+02],\n",
       "       [5.09995907e+02],\n",
       "       [5.39988842e+02],\n",
       "       [5.00000545e+02],\n",
       "       [5.67002346e+02],\n",
       "       [7.70004116e+02],\n",
       "       [9.49999660e+02],\n",
       "       [1.25000109e+03],\n",
       "       [1.57499890e+03],\n",
       "       [1.57499890e+03],\n",
       "       [1.64999878e+03],\n",
       "       [6.69977920e+00],\n",
       "       [7.50238641e+00],\n",
       "       [7.00418535e+00],\n",
       "       [9.70404579e+00],\n",
       "       [9.80641960e+00],\n",
       "       [8.70948841e+00],\n",
       "       [1.00063488e+01],\n",
       "       [9.90295522e+00],\n",
       "       [9.80082516e+00],\n",
       "       [1.22013686e+01],\n",
       "       [1.33976023e+01],\n",
       "       [1.21888627e+01],\n",
       "       [1.96987303e+01],\n",
       "       [1.98812820e+01]])"
      ]
     },
     "execution_count": 26,
     "metadata": {},
     "output_type": "execute_result"
    }
   ],
   "source": [
    "from sklearn.linear_model import LinearRegression\n",
    "\n",
    "poly_reg = LinearRegression()\n",
    "poly_reg.fit(x_poly, y)\n",
    "\n",
    "y_hat = poly_reg.predict(x_poly)\n",
    "y_hat"
   ]
  },
  {
   "cell_type": "code",
   "execution_count": 27,
   "id": "a3fb08f5",
   "metadata": {},
   "outputs": [
    {
     "name": "stdout",
     "output_type": "stream",
     "text": [
      "0.9999382629764632\n"
     ]
    }
   ],
   "source": [
    "from sklearn.metrics import r2_score\n",
    "score = r2_score(y, y_hat)\n",
    "print(score)"
   ]
  }
 ],
 "metadata": {
  "kernelspec": {
   "display_name": "Python 3",
   "language": "python",
   "name": "python3"
  },
  "language_info": {
   "codemirror_mode": {
    "name": "ipython",
    "version": 3
   },
   "file_extension": ".py",
   "mimetype": "text/x-python",
   "name": "python",
   "nbconvert_exporter": "python",
   "pygments_lexer": "ipython3",
   "version": "3.8.10"
  }
 },
 "nbformat": 4,
 "nbformat_minor": 5
}
